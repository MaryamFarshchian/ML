{
 "cells": [
  {
   "cell_type": "code",
   "execution_count": 107,
   "metadata": {},
   "outputs": [],
   "source": [
    "import pandas as pd\n",
    "import csv\n",
    "\n",
    "\n",
    "def func_open_data_file(file_address):\n",
    "\n",
    "    with open(file_address, 'r') as f:\n",
    "        data = csv.reader(f, delimiter='\\t', skipinitialspace=True)\n",
    "        x1,x2,x3,x4,y=[],[],[],[],[]\n",
    "        for i in data:\n",
    "        # Create a list in  for each column of data.\\n\",\n",
    "            x1.append(i[0])\n",
    "            x2.append(i[1])\n",
    "            x3.append(i[2])\n",
    "            x4.append(i[3])\n",
    "            y.append(i[4])\n",
    "    return x1,x2,x3,x4,y\n",
    "\n"
   ]
  },
  {
   "cell_type": "code",
   "execution_count": 108,
   "metadata": {},
   "outputs": [],
   "source": [
    "file_address='F:\\\\train.txt'\n",
    "x1,x2,x3,x4,y=func_open_data_file(file_address)"
   ]
  },
  {
   "cell_type": "code",
   "execution_count": 109,
   "metadata": {},
   "outputs": [],
   "source": [
    "import numpy as np\n",
    "\n",
    "# we transpose matrix to\n",
    "# column1=feature1 , column2=feature2 , column3=feature3 , ...\n",
    "X_train = np.array([x1[1:],x2[1:],x3[1:],x4[1:]],dtype=int).T\n",
    "Y_train = np.array(y[1:],dtype=int).T"
   ]
  },
  {
   "cell_type": "code",
   "execution_count": 110,
   "metadata": {},
   "outputs": [],
   "source": [
    "file_address='F:\\\\test.txt'\n",
    "x1,x2,x3,x4,y=func_open_data_file(file_address)"
   ]
  },
  {
   "cell_type": "code",
   "execution_count": 111,
   "metadata": {},
   "outputs": [],
   "source": [
    "import numpy as np\n",
    "\n",
    "# we transpose matrix to\n",
    "# column1=feature1 , column2=feature2 , column3=feature3 , ...\n",
    "X_test = np.array([x1[1:],x2[1:],x3[1:],x4[1:]],dtype=int).T\n",
    "Y_test = np.array(y[1:],dtype=int).T"
   ]
  },
  {
   "cell_type": "code",
   "execution_count": 112,
   "metadata": {},
   "outputs": [
    {
     "name": "stdout",
     "output_type": "stream",
     "text": [
      "x_train: [[1 1 2 1]\n",
      " [1 1 2 2]\n",
      " [1 2 1 1]\n",
      " [1 2 1 2]\n",
      " [1 2 2 1]\n",
      " [1 2 2 2]\n",
      " [2 1 1 1]\n",
      " [2 1 1 2]\n",
      " [2 1 2 1]\n",
      " [2 2 1 2]\n",
      " [2 2 2 1]\n",
      " [2 2 2 2]\n",
      " [3 1 1 1]\n",
      " [3 1 1 2]\n",
      " [3 1 2 1]\n",
      " [3 1 2 2]\n",
      " [3 2 2 1]\n",
      " [3 2 2 2]]\n",
      "y_train: [3 1 3 2 3 1 3 2 3 2 3 3 3 3 3 1 3 3]\n",
      "x_test: [[1 1 1 1]\n",
      " [1 1 1 2]\n",
      " [2 1 2 2]\n",
      " [2 2 1 1]\n",
      " [3 2 1 1]\n",
      " [3 2 1 2]]\n",
      "y_test: [3 2 1 3 3 2]\n"
     ]
    }
   ],
   "source": [
    "print(\"x_train:\",X_train)\n",
    "print(\"y_train:\",Y_train)\n",
    "print(\"x_test:\",X_test)\n",
    "print(\"y_test:\",Y_test)"
   ]
  },
  {
   "cell_type": "code",
   "execution_count": 113,
   "metadata": {},
   "outputs": [
    {
     "name": "stdout",
     "output_type": "stream",
     "text": [
      "error =        0.33333333333333337\n",
      "accurancy =    0.6666666666666666\n",
      "y =            [3 2 1 3 3 2]\n",
      "bag_predict =  [3 2 3 3 3 3]\n"
     ]
    }
   ],
   "source": [
    "# 1)bagging\n",
    "from sklearn.ensemble import BaggingClassifier\n",
    "\n",
    "# first define a sample of BaggingClassifier then for training dataset just calls fit function.\n",
    "# my model insert into the bag_train\n",
    "bag_train = BaggingClassifier().fit(X_train , Y_train)\n",
    "\n",
    "# second take test data and model to get prediction value as bag_predict\n",
    "bag_predict = bag_train.predict(X_test)\n",
    "\n",
    "# evaluation\n",
    "accurancy = bag_train.score(X_test,Y_test)\n",
    "\n",
    "# error\n",
    "err = 1-accurancy\n",
    "\n",
    "print(\"error =       \",err)\n",
    "print(\"accurancy =   \",accurancy)\n",
    "print(\"y =           \",Y_test)\n",
    "print(\"bag_predict = \",bag_predict)\n"
   ]
  },
  {
   "cell_type": "code",
   "execution_count": 114,
   "metadata": {},
   "outputs": [
    {
     "name": "stdout",
     "output_type": "stream",
     "text": [
      "error =        0.33333333333333337\n",
      "accurancy =    0.6666666666666666\n",
      "y =            [3 2 1 3 3 2]\n",
      "ada_predict =  [3 2 3 3 3 3]\n"
     ]
    }
   ],
   "source": [
    "# 2)Adaboost\n",
    "from sklearn.ensemble import AdaBoostClassifier\n",
    "\n",
    "# first define a sample of AdaBoostClassifier then for training dataset just calls fit function.\n",
    "# my model insert into the ada_train\n",
    "ada_train = AdaBoostClassifier().fit(X_train , Y_train)\n",
    "\n",
    "# second take test data and model to get prediction value as ada_predict\n",
    "ada_predict = ada_train.predict(X_test)\n",
    "\n",
    "# evaluation\n",
    "accurancy = ada_train.score(X_test,Y_test)\n",
    "\n",
    "# error\n",
    "err = 1-accurancy\n",
    "\n",
    "print(\"error =       \",err)\n",
    "print(\"accurancy =   \",accurancy)\n",
    "print(\"y =           \",Y_test)\n",
    "print(\"ada_predict = \",ada_predict)"
   ]
  },
  {
   "cell_type": "code",
   "execution_count": 115,
   "metadata": {},
   "outputs": [
    {
     "name": "stdout",
     "output_type": "stream",
     "text": [
      "error =          0.16666666666666663\n",
      "accurancy =      0.8333333333333334\n",
      "y =              [3 2 1 3 3 2]\n",
      "boost_predict =  [3 2 1 3 3 3]\n"
     ]
    }
   ],
   "source": [
    "# 3)Boosting\n",
    "from sklearn.ensemble import GradientBoostingClassifier\n",
    "\n",
    "# first define a sample of GradientBoostingClassifier then for training dataset just calls fit function.\n",
    "# my model insert into the boost_train\n",
    "boost_train = GradientBoostingClassifier().fit(X_train , Y_train)\n",
    "\n",
    "# second take test data and model to get prediction value as boost_predict\n",
    "boost_predict = boost_train.predict(X_test)\n",
    "\n",
    "# evaluation\n",
    "accurancy = boost_train.score(X_test,Y_test)\n",
    "\n",
    "# error\n",
    "err = 1-accurancy\n",
    "\n",
    "print(\"error =         \",err)\n",
    "print(\"accurancy =     \",accurancy)\n",
    "print(\"y =             \",Y_test)\n",
    "print(\"boost_predict = \",boost_predict)"
   ]
  },
  {
   "cell_type": "code",
   "execution_count": 128,
   "metadata": {},
   "outputs": [
    {
     "name": "stdout",
     "output_type": "stream",
     "text": [
      "error =        0.33333333333333337\n",
      "accurancy =    0.6666666666666666\n",
      "y =            [3 2 1 3 3 2]\n",
      "svm_predict =  [2 2 1 3 3 3]\n"
     ]
    }
   ],
   "source": [
    "# 4)SVM\n",
    "# SVC = Support Vector Classifier  -  Discrete\n",
    "# SVR = Support Vector Regression  -  Continuous\n",
    "from sklearn.svm import SVC\n",
    "\n",
    "# first define a sample of svc then for training dataset just calls fit function.\n",
    "# my model insert into the svm_model\n",
    "svm_model = SVC(kernel='linear').fit(X_train,Y_train) #kernel = 'linear' , 'poly' , 'rbf' , 'sigmoid'\n",
    "\n",
    "# second take test data and model to get prediction value as svm_predict\n",
    "svm_predict = svm_model.predict(X_test)\n",
    "\n",
    "# evaluation\n",
    "accurancy = svm_model.score(X_test,Y_test)\n",
    "\n",
    "# error\n",
    "err = 1-accurancy\n",
    " \n",
    "print(\"error =       \",err)\n",
    "print(\"accurancy =   \",accurancy)\n",
    "print(\"y =           \",Y_test)\n",
    "print(\"svm_predict = \",svm_predict)"
   ]
  },
  {
   "cell_type": "code",
   "execution_count": null,
   "metadata": {},
   "outputs": [],
   "source": []
  }
 ],
 "metadata": {
  "kernelspec": {
   "display_name": "Python 3",
   "language": "python",
   "name": "python3"
  },
  "language_info": {
   "codemirror_mode": {
    "name": "ipython",
    "version": 3
   },
   "file_extension": ".py",
   "mimetype": "text/x-python",
   "name": "python",
   "nbconvert_exporter": "python",
   "pygments_lexer": "ipython3",
   "version": "3.7.1"
  }
 },
 "nbformat": 4,
 "nbformat_minor": 2
}
